{
 "cells": [
  {
   "cell_type": "code",
   "execution_count": null,
   "id": "aef7a066",
   "metadata": {},
   "outputs": [
    {
     "name": "stdout",
     "output_type": "stream",
     "text": [
      "enter your guess: 2\n",
      "low ! try again\n",
      "enter your guess: 40\n",
      "low ! try again\n",
      "enter your guess: 70\n",
      "high ! try again\n",
      "enter your guess: 60\n",
      "low ! try again\n",
      "enter your guess: 55\n",
      "low ! try again\n"
     ]
    }
   ],
   "source": [
    "import random\n",
    "def number_guessing_game():\n",
    "    print(\"welcome to the number guessing game !\")\n",
    "    print(\"i have selected a random number between 1 nd 100\")\n",
    "    print(\"can you guess what it is?\")\n",
    "    \n",
    "target_number=random.randint(1,100)\n",
    "attempts=0\n",
    "while True:\n",
    "    try:\n",
    "        guess=int(input(\"enter your guess: \"))\n",
    "        attempts+=1\n",
    "        if guess < target_number:\n",
    "            print(\"low ! try again\")\n",
    "        elif guess > target_number:\n",
    "                print(\"high ! try again\" )\n",
    "        else:\n",
    "                    print(f\"good ! you are smart you guess the number in {attempts} time \")\n",
    "                    break\n",
    "                \n",
    "    except ValueError:\n",
    "                        print(\"please enter a valid number\")\n",
    "                        print(\"thanks you for try my task \")\n",
    "                        print(\"thanks for codeSognal to test me\")\n",
    "                        "
   ]
  },
  {
   "cell_type": "code",
   "execution_count": null,
   "id": "29d0ace7",
   "metadata": {},
   "outputs": [],
   "source": []
  }
 ],
 "metadata": {
  "kernelspec": {
   "display_name": "Python 3 (ipykernel)",
   "language": "python",
   "name": "python3"
  },
  "language_info": {
   "codemirror_mode": {
    "name": "ipython",
    "version": 3
   },
   "file_extension": ".py",
   "mimetype": "text/x-python",
   "name": "python",
   "nbconvert_exporter": "python",
   "pygments_lexer": "ipython3",
   "version": "3.11.5"
  }
 },
 "nbformat": 4,
 "nbformat_minor": 5
}
